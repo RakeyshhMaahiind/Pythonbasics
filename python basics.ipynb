{
 "cells": [
  {
   "cell_type": "code",
   "execution_count": null,
   "id": "54688f78",
   "metadata": {},
   "outputs": [],
   "source": [
    "# assigning variables"
   ]
  },
  {
   "cell_type": "code",
   "execution_count": 1,
   "id": "67e29514",
   "metadata": {},
   "outputs": [],
   "source": [
    "a,b,c,d=8,10,5,6"
   ]
  },
  {
   "cell_type": "code",
   "execution_count": 2,
   "id": "260a6a37",
   "metadata": {},
   "outputs": [
    {
     "data": {
      "text/plain": [
       "(8, 10, 5, 6)"
      ]
     },
     "execution_count": 2,
     "metadata": {},
     "output_type": "execute_result"
    }
   ],
   "source": [
    "a,b,c,d"
   ]
  },
  {
   "cell_type": "code",
   "execution_count": 3,
   "id": "25173ffe",
   "metadata": {},
   "outputs": [
    {
     "name": "stdout",
     "output_type": "stream",
     "text": [
      "8 10 5 6\n"
     ]
    }
   ],
   "source": [
    "print(a,b,c,d)"
   ]
  },
  {
   "cell_type": "code",
   "execution_count": 5,
   "id": "92398ba3",
   "metadata": {},
   "outputs": [],
   "source": [
    "x=50;y=60 # multiple syntax in single line"
   ]
  },
  {
   "cell_type": "code",
   "execution_count": 7,
   "id": "91abfa9e",
   "metadata": {},
   "outputs": [
    {
     "data": {
      "text/plain": [
       "(50, 60)"
      ]
     },
     "execution_count": 7,
     "metadata": {},
     "output_type": "execute_result"
    }
   ],
   "source": [
    "x,y"
   ]
  },
  {
   "cell_type": "code",
   "execution_count": 8,
   "id": "fdff2cb7",
   "metadata": {},
   "outputs": [
    {
     "data": {
      "text/plain": [
       "int"
      ]
     },
     "execution_count": 8,
     "metadata": {},
     "output_type": "execute_result"
    }
   ],
   "source": [
    "type(a) # type() gives datatype of variable"
   ]
  },
  {
   "cell_type": "code",
   "execution_count": 9,
   "id": "ca50433e",
   "metadata": {},
   "outputs": [
    {
     "data": {
      "text/plain": [
       "int"
      ]
     },
     "execution_count": 9,
     "metadata": {},
     "output_type": "execute_result"
    }
   ],
   "source": [
    "type(x)"
   ]
  },
  {
   "cell_type": "code",
   "execution_count": 10,
   "id": "f1a28682",
   "metadata": {},
   "outputs": [],
   "source": [
    "new_var=30.2"
   ]
  },
  {
   "cell_type": "code",
   "execution_count": 11,
   "id": "7fd8c5d3",
   "metadata": {},
   "outputs": [
    {
     "data": {
      "text/plain": [
       "30.2"
      ]
     },
     "execution_count": 11,
     "metadata": {},
     "output_type": "execute_result"
    }
   ],
   "source": [
    "new_var"
   ]
  },
  {
   "cell_type": "code",
   "execution_count": 12,
   "id": "8b0c1ebd",
   "metadata": {},
   "outputs": [
    {
     "data": {
      "text/plain": [
       "float"
      ]
     },
     "execution_count": 12,
     "metadata": {},
     "output_type": "execute_result"
    }
   ],
   "source": [
    "type(new_var)"
   ]
  },
  {
   "cell_type": "code",
   "execution_count": 14,
   "id": "3f691ed5",
   "metadata": {},
   "outputs": [],
   "source": [
    "new_var=30"
   ]
  },
  {
   "cell_type": "code",
   "execution_count": 15,
   "id": "06eae816",
   "metadata": {},
   "outputs": [],
   "source": [
    "new_var=int(new_var)"
   ]
  },
  {
   "cell_type": "code",
   "execution_count": 16,
   "id": "ad8f0682",
   "metadata": {},
   "outputs": [
    {
     "data": {
      "text/plain": [
       "30"
      ]
     },
     "execution_count": 16,
     "metadata": {},
     "output_type": "execute_result"
    }
   ],
   "source": [
    "new_var"
   ]
  },
  {
   "cell_type": "code",
   "execution_count": 17,
   "id": "7e222e6a",
   "metadata": {},
   "outputs": [
    {
     "data": {
      "text/plain": [
       "int"
      ]
     },
     "execution_count": 17,
     "metadata": {},
     "output_type": "execute_result"
    }
   ],
   "source": [
    "type(new_var)"
   ]
  },
  {
   "cell_type": "code",
   "execution_count": 18,
   "id": "f95edd70",
   "metadata": {},
   "outputs": [],
   "source": [
    "new_int=25"
   ]
  },
  {
   "cell_type": "code",
   "execution_count": 19,
   "id": "ccc42be3",
   "metadata": {},
   "outputs": [
    {
     "data": {
      "text/plain": [
       "int"
      ]
     },
     "execution_count": 19,
     "metadata": {},
     "output_type": "execute_result"
    }
   ],
   "source": [
    "type(new_int)"
   ]
  },
  {
   "cell_type": "code",
   "execution_count": 20,
   "id": "dadb7341",
   "metadata": {},
   "outputs": [],
   "source": [
    "new_int=float(new_int)"
   ]
  },
  {
   "cell_type": "code",
   "execution_count": 21,
   "id": "918da9cd",
   "metadata": {},
   "outputs": [
    {
     "data": {
      "text/plain": [
       "25.0"
      ]
     },
     "execution_count": 21,
     "metadata": {},
     "output_type": "execute_result"
    }
   ],
   "source": [
    "new_int"
   ]
  },
  {
   "cell_type": "code",
   "execution_count": 22,
   "id": "560aa1a4",
   "metadata": {},
   "outputs": [
    {
     "data": {
      "text/plain": [
       "float"
      ]
     },
     "execution_count": 22,
     "metadata": {},
     "output_type": "execute_result"
    }
   ],
   "source": [
    "type(new_int)"
   ]
  },
  {
   "cell_type": "code",
   "execution_count": null,
   "id": "fd5c2cf7",
   "metadata": {},
   "outputs": [],
   "source": [
    "# arithmetic operators"
   ]
  },
  {
   "cell_type": "code",
   "execution_count": 24,
   "id": "3705d75c",
   "metadata": {},
   "outputs": [],
   "source": [
    "a=30;b=20"
   ]
  },
  {
   "cell_type": "code",
   "execution_count": 25,
   "id": "2376bc99",
   "metadata": {},
   "outputs": [
    {
     "data": {
      "text/plain": [
       "50"
      ]
     },
     "execution_count": 25,
     "metadata": {},
     "output_type": "execute_result"
    }
   ],
   "source": [
    "a+b"
   ]
  },
  {
   "cell_type": "code",
   "execution_count": 26,
   "id": "e74237f0",
   "metadata": {},
   "outputs": [
    {
     "data": {
      "text/plain": [
       "10"
      ]
     },
     "execution_count": 26,
     "metadata": {},
     "output_type": "execute_result"
    }
   ],
   "source": [
    "a-b"
   ]
  },
  {
   "cell_type": "code",
   "execution_count": 27,
   "id": "62cac7d5",
   "metadata": {},
   "outputs": [
    {
     "data": {
      "text/plain": [
       "600"
      ]
     },
     "execution_count": 27,
     "metadata": {},
     "output_type": "execute_result"
    }
   ],
   "source": [
    "a*b"
   ]
  },
  {
   "cell_type": "code",
   "execution_count": 28,
   "id": "316799c1",
   "metadata": {},
   "outputs": [
    {
     "data": {
      "text/plain": [
       "1.5"
      ]
     },
     "execution_count": 28,
     "metadata": {},
     "output_type": "execute_result"
    }
   ],
   "source": [
    "a/b"
   ]
  },
  {
   "cell_type": "code",
   "execution_count": 30,
   "id": "d7909889",
   "metadata": {},
   "outputs": [
    {
     "data": {
      "text/plain": [
       "1"
      ]
     },
     "execution_count": 30,
     "metadata": {},
     "output_type": "execute_result"
    }
   ],
   "source": [
    "a//b # floor division eliminates decimal after dividing"
   ]
  },
  {
   "cell_type": "code",
   "execution_count": 32,
   "id": "e8d7913f",
   "metadata": {},
   "outputs": [
    {
     "data": {
      "text/plain": [
       "3125"
      ]
     },
     "execution_count": 32,
     "metadata": {},
     "output_type": "execute_result"
    }
   ],
   "source": [
    "5**5 # exponential"
   ]
  },
  {
   "cell_type": "code",
   "execution_count": 35,
   "id": "ff50df2d",
   "metadata": {},
   "outputs": [
    {
     "data": {
      "text/plain": [
       "15625"
      ]
     },
     "execution_count": 35,
     "metadata": {},
     "output_type": "execute_result"
    }
   ],
   "source": [
    "5**6"
   ]
  },
  {
   "cell_type": "code",
   "execution_count": null,
   "id": "f6403355",
   "metadata": {},
   "outputs": [],
   "source": [
    "# = assigning\n",
    "# == verifying"
   ]
  },
  {
   "cell_type": "code",
   "execution_count": 37,
   "id": "a3bf145d",
   "metadata": {},
   "outputs": [],
   "source": [
    "a=10;b=15"
   ]
  },
  {
   "cell_type": "code",
   "execution_count": 38,
   "id": "a86d784e",
   "metadata": {},
   "outputs": [],
   "source": [
    "a=b"
   ]
  },
  {
   "cell_type": "code",
   "execution_count": 39,
   "id": "345719ab",
   "metadata": {},
   "outputs": [
    {
     "name": "stdout",
     "output_type": "stream",
     "text": [
      "15 15\n"
     ]
    }
   ],
   "source": [
    "print(a,b)"
   ]
  },
  {
   "cell_type": "code",
   "execution_count": 40,
   "id": "cb7572bb",
   "metadata": {},
   "outputs": [],
   "source": [
    "a=10;b=20;c=a"
   ]
  },
  {
   "cell_type": "code",
   "execution_count": 42,
   "id": "0df35259",
   "metadata": {},
   "outputs": [],
   "source": [
    "c=c+b"
   ]
  },
  {
   "cell_type": "code",
   "execution_count": 43,
   "id": "20775d95",
   "metadata": {},
   "outputs": [
    {
     "data": {
      "text/plain": [
       "50"
      ]
     },
     "execution_count": 43,
     "metadata": {},
     "output_type": "execute_result"
    }
   ],
   "source": [
    "c"
   ]
  },
  {
   "cell_type": "code",
   "execution_count": 44,
   "id": "a51da46f",
   "metadata": {},
   "outputs": [],
   "source": [
    "a=10"
   ]
  },
  {
   "cell_type": "code",
   "execution_count": 45,
   "id": "c5f950da",
   "metadata": {},
   "outputs": [],
   "source": [
    "b=3"
   ]
  },
  {
   "cell_type": "code",
   "execution_count": 46,
   "id": "6ca27da1",
   "metadata": {},
   "outputs": [
    {
     "data": {
      "text/plain": [
       "1"
      ]
     },
     "execution_count": 46,
     "metadata": {},
     "output_type": "execute_result"
    }
   ],
   "source": [
    "a%b # modulus gives reminder after dividing"
   ]
  },
  {
   "cell_type": "code",
   "execution_count": null,
   "id": "dec63f01",
   "metadata": {},
   "outputs": [],
   "source": [
    "# string (string is immutable)"
   ]
  },
  {
   "cell_type": "code",
   "execution_count": 49,
   "id": "e19acaa7",
   "metadata": {},
   "outputs": [],
   "source": [
    "str1=\"ExcelR\""
   ]
  },
  {
   "cell_type": "code",
   "execution_count": 50,
   "id": "9c41ff8f",
   "metadata": {},
   "outputs": [
    {
     "name": "stdout",
     "output_type": "stream",
     "text": [
      "ExcelR\n"
     ]
    }
   ],
   "source": [
    "print(str1)"
   ]
  },
  {
   "cell_type": "code",
   "execution_count": 51,
   "id": "e0063706",
   "metadata": {},
   "outputs": [],
   "source": [
    "str2=\"RakeyshhMaahiind\""
   ]
  },
  {
   "cell_type": "code",
   "execution_count": 52,
   "id": "a2960e67",
   "metadata": {},
   "outputs": [
    {
     "data": {
      "text/plain": [
       "'RakeyshhMaahiind'"
      ]
     },
     "execution_count": 52,
     "metadata": {},
     "output_type": "execute_result"
    }
   ],
   "source": [
    "str2"
   ]
  },
  {
   "cell_type": "code",
   "execution_count": null,
   "id": "af32b493",
   "metadata": {},
   "outputs": [],
   "source": [
    "# slicing and indexing"
   ]
  },
  {
   "cell_type": "code",
   "execution_count": 54,
   "id": "00a9fe5f",
   "metadata": {},
   "outputs": [
    {
     "data": {
      "text/plain": [
       "'ExcelR'"
      ]
     },
     "execution_count": 54,
     "metadata": {},
     "output_type": "execute_result"
    }
   ],
   "source": [
    "str1[:]"
   ]
  },
  {
   "cell_type": "code",
   "execution_count": 55,
   "id": "1bfe0743",
   "metadata": {},
   "outputs": [
    {
     "data": {
      "text/plain": [
       "'xc'"
      ]
     },
     "execution_count": 55,
     "metadata": {},
     "output_type": "execute_result"
    }
   ],
   "source": [
    "str1[1:3] # +ve indexing"
   ]
  },
  {
   "cell_type": "code",
   "execution_count": 56,
   "id": "4b4bafed",
   "metadata": {},
   "outputs": [
    {
     "data": {
      "text/plain": [
       "'Excel'"
      ]
     },
     "execution_count": 56,
     "metadata": {},
     "output_type": "execute_result"
    }
   ],
   "source": [
    "str1[:5]"
   ]
  },
  {
   "cell_type": "code",
   "execution_count": 57,
   "id": "23cdeed0",
   "metadata": {},
   "outputs": [
    {
     "data": {
      "text/plain": [
       "'RakeyshhM'"
      ]
     },
     "execution_count": 57,
     "metadata": {},
     "output_type": "execute_result"
    }
   ],
   "source": [
    "str2[:9]"
   ]
  },
  {
   "cell_type": "code",
   "execution_count": 59,
   "id": "1599128b",
   "metadata": {},
   "outputs": [
    {
     "data": {
      "text/plain": [
       "'hiin'"
      ]
     },
     "execution_count": 59,
     "metadata": {},
     "output_type": "execute_result"
    }
   ],
   "source": [
    "str2[-5:-1] # -ve indexing"
   ]
  },
  {
   "cell_type": "code",
   "execution_count": 62,
   "id": "02e8a27e",
   "metadata": {},
   "outputs": [
    {
     "data": {
      "text/plain": [
       "''"
      ]
     },
     "execution_count": 62,
     "metadata": {},
     "output_type": "execute_result"
    }
   ],
   "source": [
    "str2[-5:-6]"
   ]
  },
  {
   "cell_type": "code",
   "execution_count": 63,
   "id": "3d7c0aa0",
   "metadata": {},
   "outputs": [
    {
     "data": {
      "text/plain": [
       "'RakeyshhMaahiind'"
      ]
     },
     "execution_count": 63,
     "metadata": {},
     "output_type": "execute_result"
    }
   ],
   "source": [
    "str2[::]"
   ]
  },
  {
   "cell_type": "code",
   "execution_count": 64,
   "id": "df0c22e0",
   "metadata": {},
   "outputs": [
    {
     "data": {
      "text/plain": [
       "'RlecxE'"
      ]
     },
     "execution_count": 64,
     "metadata": {},
     "output_type": "execute_result"
    }
   ],
   "source": [
    "str1[::-1] # reverse order of string"
   ]
  },
  {
   "cell_type": "code",
   "execution_count": 65,
   "id": "a6980418",
   "metadata": {},
   "outputs": [
    {
     "data": {
      "text/plain": [
       "'dniihaaMhhsyekaR'"
      ]
     },
     "execution_count": 65,
     "metadata": {},
     "output_type": "execute_result"
    }
   ],
   "source": [
    "str2[::-1]"
   ]
  },
  {
   "cell_type": "code",
   "execution_count": 66,
   "id": "f2cee50b",
   "metadata": {},
   "outputs": [
    {
     "data": {
      "text/plain": [
       "6"
      ]
     },
     "execution_count": 66,
     "metadata": {},
     "output_type": "execute_result"
    }
   ],
   "source": [
    "len(str1) # length of string"
   ]
  },
  {
   "cell_type": "code",
   "execution_count": 67,
   "id": "e28439c7",
   "metadata": {},
   "outputs": [
    {
     "data": {
      "text/plain": [
       "16"
      ]
     },
     "execution_count": 67,
     "metadata": {},
     "output_type": "execute_result"
    }
   ],
   "source": [
    "len(str2)"
   ]
  },
  {
   "cell_type": "code",
   "execution_count": 68,
   "id": "0d6cc85d",
   "metadata": {},
   "outputs": [
    {
     "data": {
      "text/plain": [
       "str"
      ]
     },
     "execution_count": 68,
     "metadata": {},
     "output_type": "execute_result"
    }
   ],
   "source": [
    "type(str1)"
   ]
  },
  {
   "cell_type": "code",
   "execution_count": null,
   "id": "cb0bb637",
   "metadata": {},
   "outputs": [],
   "source": [
    "# updating or adding or concatinating"
   ]
  },
  {
   "cell_type": "code",
   "execution_count": 70,
   "id": "7398d5f3",
   "metadata": {},
   "outputs": [],
   "source": [
    "str3=\"ExcelR\";str4=\"Solutions\""
   ]
  },
  {
   "cell_type": "code",
   "execution_count": 71,
   "id": "a02b0966",
   "metadata": {},
   "outputs": [
    {
     "name": "stdout",
     "output_type": "stream",
     "text": [
      "ExcelRSolutions\n"
     ]
    }
   ],
   "source": [
    "print(str3+str4)"
   ]
  },
  {
   "cell_type": "code",
   "execution_count": 73,
   "id": "b82a07e7",
   "metadata": {},
   "outputs": [
    {
     "name": "stdout",
     "output_type": "stream",
     "text": [
      "ExcelR Solutions\n"
     ]
    }
   ],
   "source": [
    "print(str3+\" \"+str4)"
   ]
  },
  {
   "cell_type": "code",
   "execution_count": 75,
   "id": "69c9c884",
   "metadata": {},
   "outputs": [
    {
     "name": "stdout",
     "output_type": "stream",
     "text": [
      "ExcelR5\n"
     ]
    }
   ],
   "source": [
    "print(str3+\"5\")"
   ]
  },
  {
   "cell_type": "code",
   "execution_count": null,
   "id": "134e6ab0",
   "metadata": {},
   "outputs": [],
   "source": [
    "# triple quoatations"
   ]
  },
  {
   "cell_type": "code",
   "execution_count": 76,
   "id": "2678b58d",
   "metadata": {},
   "outputs": [],
   "source": [
    "new=\"\"\"this is for your 'example'\n",
    "       for your understanding\n",
    "       this is the third line\"\"\""
   ]
  },
  {
   "cell_type": "code",
   "execution_count": 77,
   "id": "4d1cfd12",
   "metadata": {},
   "outputs": [
    {
     "name": "stdout",
     "output_type": "stream",
     "text": [
      "this is for your 'example'\n",
      "       for your understanding\n",
      "       this is the third line\n"
     ]
    }
   ],
   "source": [
    "print(new)"
   ]
  },
  {
   "cell_type": "code",
   "execution_count": 82,
   "id": "4aec5c2b",
   "metadata": {},
   "outputs": [],
   "source": [
    "new_str=\"\"\"this is the 1st line \\ # \\ escape character\n",
    "this is the 2nd line\"\"\""
   ]
  },
  {
   "cell_type": "code",
   "execution_count": 84,
   "id": "e67eb5f7",
   "metadata": {},
   "outputs": [
    {
     "name": "stdout",
     "output_type": "stream",
     "text": [
      "this is the 1st line this is the 2nd line\n"
     ]
    }
   ],
   "source": [
    "print(new_str)"
   ]
  },
  {
   "cell_type": "code",
   "execution_count": null,
   "id": "1e2f2fc7",
   "metadata": {},
   "outputs": [],
   "source": [
    "# diffrent inbuilt functions for different datatypes"
   ]
  },
  {
   "cell_type": "code",
   "execution_count": 86,
   "id": "510bc571",
   "metadata": {},
   "outputs": [
    {
     "data": {
      "text/plain": [
       "<method 'replace' of 'str' objects>"
      ]
     },
     "execution_count": 86,
     "metadata": {},
     "output_type": "execute_result"
    }
   ],
   "source": [
    "str.replace"
   ]
  },
  {
   "cell_type": "code",
   "execution_count": 87,
   "id": "73e9ad99",
   "metadata": {},
   "outputs": [
    {
     "data": {
      "text/plain": [
       "<function str.split(sep=None, maxsplit=-1)>"
      ]
     },
     "execution_count": 87,
     "metadata": {},
     "output_type": "execute_result"
    }
   ],
   "source": [
    "str1.split"
   ]
  },
  {
   "cell_type": "code",
   "execution_count": 92,
   "id": "4d06abf4",
   "metadata": {},
   "outputs": [
    {
     "data": {
      "text/plain": [
       "\"this is to your 'example'\\n       to your understanding\\n       this is the third line\""
      ]
     },
     "execution_count": 92,
     "metadata": {},
     "output_type": "execute_result"
    }
   ],
   "source": [
    "new.replace(\"for\",\"to\")"
   ]
  },
  {
   "cell_type": "code",
   "execution_count": 99,
   "id": "6001dac0",
   "metadata": {},
   "outputs": [
    {
     "data": {
      "text/plain": [
       "['RakeyshhMaahiind']"
      ]
     },
     "execution_count": 99,
     "metadata": {},
     "output_type": "execute_result"
    }
   ],
   "source": [
    "str2.split()"
   ]
  },
  {
   "cell_type": "code",
   "execution_count": 103,
   "id": "41b64df0",
   "metadata": {},
   "outputs": [
    {
     "data": {
      "text/plain": [
       "<method 'count' of 'str' objects>"
      ]
     },
     "execution_count": 103,
     "metadata": {},
     "output_type": "execute_result"
    }
   ],
   "source": [
    "str.count"
   ]
  },
  {
   "cell_type": "code",
   "execution_count": 108,
   "id": "32015ea6",
   "metadata": {},
   "outputs": [
    {
     "data": {
      "text/plain": [
       "'RAKEYSHHMAAHIIND'"
      ]
     },
     "execution_count": 108,
     "metadata": {},
     "output_type": "execute_result"
    }
   ],
   "source": [
    "str2.upper()"
   ]
  },
  {
   "cell_type": "code",
   "execution_count": 109,
   "id": "4a883dea",
   "metadata": {},
   "outputs": [
    {
     "data": {
      "text/plain": [
       "'excelr'"
      ]
     },
     "execution_count": 109,
     "metadata": {},
     "output_type": "execute_result"
    }
   ],
   "source": [
    "str1.lower()"
   ]
  },
  {
   "cell_type": "code",
   "execution_count": 112,
   "id": "fcecf4f2",
   "metadata": {},
   "outputs": [
    {
     "data": {
      "text/plain": [
       "'Excelr'"
      ]
     },
     "execution_count": 112,
     "metadata": {},
     "output_type": "execute_result"
    }
   ],
   "source": [
    "str1.title()"
   ]
  },
  {
   "cell_type": "code",
   "execution_count": 113,
   "id": "324cdf3f",
   "metadata": {},
   "outputs": [
    {
     "data": {
      "text/plain": [
       "'Rakeyshhmaahiind'"
      ]
     },
     "execution_count": 113,
     "metadata": {},
     "output_type": "execute_result"
    }
   ],
   "source": [
    "str2.capitalize()"
   ]
  },
  {
   "cell_type": "code",
   "execution_count": 127,
   "id": "c7fa7fdc",
   "metadata": {},
   "outputs": [],
   "source": [
    "new1=\"1235\""
   ]
  },
  {
   "cell_type": "code",
   "execution_count": 128,
   "id": "8c1da9cd",
   "metadata": {},
   "outputs": [
    {
     "name": "stdout",
     "output_type": "stream",
     "text": [
      "False False False\n"
     ]
    }
   ],
   "source": [
    "print(new.isalpha(),new.isalnum(),new.isnumeric())"
   ]
  },
  {
   "cell_type": "code",
   "execution_count": 125,
   "id": "a377e91f",
   "metadata": {},
   "outputs": [],
   "source": [
    "new2=\"123\""
   ]
  },
  {
   "cell_type": "code",
   "execution_count": 126,
   "id": "2133e659",
   "metadata": {},
   "outputs": [
    {
     "name": "stdout",
     "output_type": "stream",
     "text": [
      "False True True\n"
     ]
    }
   ],
   "source": [
    "print(new2.isalpha(),new2.isalnum(),new2.isnumeric())"
   ]
  },
  {
   "cell_type": "code",
   "execution_count": null,
   "id": "2bdf0b29",
   "metadata": {},
   "outputs": [],
   "source": [
    "# list "
   ]
  },
  {
   "cell_type": "code",
   "execution_count": 2,
   "id": "f3d2cb5c",
   "metadata": {},
   "outputs": [],
   "source": [
    "list1=[5,2.2,True,\"text\"]"
   ]
  },
  {
   "cell_type": "code",
   "execution_count": 3,
   "id": "2a619353",
   "metadata": {},
   "outputs": [],
   "source": [
    "list2=[1,23,4,5,6,7.5]"
   ]
  },
  {
   "cell_type": "code",
   "execution_count": 131,
   "id": "137e1f7d",
   "metadata": {},
   "outputs": [
    {
     "name": "stdout",
     "output_type": "stream",
     "text": [
      "[5, 2.2, True, 'text']\n"
     ]
    }
   ],
   "source": [
    "print(list1)"
   ]
  },
  {
   "cell_type": "code",
   "execution_count": 132,
   "id": "94136255",
   "metadata": {},
   "outputs": [
    {
     "name": "stdout",
     "output_type": "stream",
     "text": [
      "[1, 23, 4, 5, 6, 7.5]\n"
     ]
    }
   ],
   "source": [
    "print(list2)"
   ]
  },
  {
   "cell_type": "code",
   "execution_count": 133,
   "id": "14285fa7",
   "metadata": {},
   "outputs": [
    {
     "data": {
      "text/plain": [
       "1580318672832"
      ]
     },
     "execution_count": 133,
     "metadata": {},
     "output_type": "execute_result"
    }
   ],
   "source": [
    "id(list1) #gives id number for list"
   ]
  },
  {
   "cell_type": "code",
   "execution_count": 134,
   "id": "519e3266",
   "metadata": {},
   "outputs": [],
   "source": [
    "list1.append(22) # add element from end of list."
   ]
  },
  {
   "cell_type": "code",
   "execution_count": 135,
   "id": "198f8047",
   "metadata": {},
   "outputs": [
    {
     "data": {
      "text/plain": [
       "[5, 2.2, True, 'text', 22]"
      ]
     },
     "execution_count": 135,
     "metadata": {},
     "output_type": "execute_result"
    }
   ],
   "source": [
    "list1"
   ]
  },
  {
   "cell_type": "code",
   "execution_count": 136,
   "id": "6028c284",
   "metadata": {},
   "outputs": [
    {
     "data": {
      "text/plain": [
       "[True, 'text']"
      ]
     },
     "execution_count": 136,
     "metadata": {},
     "output_type": "execute_result"
    }
   ],
   "source": [
    "list1[-3:-1]"
   ]
  },
  {
   "cell_type": "code",
   "execution_count": 137,
   "id": "cc918836",
   "metadata": {},
   "outputs": [
    {
     "data": {
      "text/plain": [
       "[True, 'text']"
      ]
     },
     "execution_count": 137,
     "metadata": {},
     "output_type": "execute_result"
    }
   ],
   "source": [
    "list1[2:4]"
   ]
  },
  {
   "cell_type": "code",
   "execution_count": 138,
   "id": "6ab6e31a",
   "metadata": {},
   "outputs": [
    {
     "data": {
      "text/plain": [
       "[2.2, True, 'text', 22]"
      ]
     },
     "execution_count": 138,
     "metadata": {},
     "output_type": "execute_result"
    }
   ],
   "source": [
    "list1[1:]"
   ]
  },
  {
   "cell_type": "code",
   "execution_count": 139,
   "id": "cd0ab72c",
   "metadata": {},
   "outputs": [
    {
     "data": {
      "text/plain": [
       "[5, 2.2, True]"
      ]
     },
     "execution_count": 139,
     "metadata": {},
     "output_type": "execute_result"
    }
   ],
   "source": [
    "list1[:3]"
   ]
  },
  {
   "cell_type": "code",
   "execution_count": 140,
   "id": "0b9d470a",
   "metadata": {},
   "outputs": [
    {
     "data": {
      "text/plain": [
       "[22, 'text', True, 2.2, 5]"
      ]
     },
     "execution_count": 140,
     "metadata": {},
     "output_type": "execute_result"
    }
   ],
   "source": [
    "list1[::-1] #reverse order"
   ]
  },
  {
   "cell_type": "code",
   "execution_count": 141,
   "id": "6468087c",
   "metadata": {},
   "outputs": [
    {
     "data": {
      "text/plain": [
       "[5, True, 22]"
      ]
     },
     "execution_count": 141,
     "metadata": {},
     "output_type": "execute_result"
    }
   ],
   "source": [
    "list1[::2]"
   ]
  },
  {
   "cell_type": "code",
   "execution_count": 142,
   "id": "c4683056",
   "metadata": {},
   "outputs": [
    {
     "data": {
      "text/plain": [
       "5"
      ]
     },
     "execution_count": 142,
     "metadata": {},
     "output_type": "execute_result"
    }
   ],
   "source": [
    "len(list1)"
   ]
  },
  {
   "cell_type": "code",
   "execution_count": 4,
   "id": "9f004b95",
   "metadata": {},
   "outputs": [
    {
     "data": {
      "text/plain": [
       "list"
      ]
     },
     "execution_count": 4,
     "metadata": {},
     "output_type": "execute_result"
    }
   ],
   "source": [
    "type(list1)"
   ]
  },
  {
   "cell_type": "code",
   "execution_count": 6,
   "id": "1483f2ff",
   "metadata": {},
   "outputs": [],
   "source": [
    "list1.insert(4,\"text1\")"
   ]
  },
  {
   "cell_type": "code",
   "execution_count": 7,
   "id": "505a4c5c",
   "metadata": {},
   "outputs": [
    {
     "name": "stdout",
     "output_type": "stream",
     "text": [
      "[5, 2.2, True, 'text', 'text1']\n"
     ]
    }
   ],
   "source": [
    "print(list1)"
   ]
  },
  {
   "cell_type": "code",
   "execution_count": 8,
   "id": "5f9aaaf3",
   "metadata": {},
   "outputs": [],
   "source": [
    "list1.append(25)"
   ]
  },
  {
   "cell_type": "code",
   "execution_count": 9,
   "id": "a2b35b04",
   "metadata": {},
   "outputs": [
    {
     "name": "stdout",
     "output_type": "stream",
     "text": [
      "[5, 2.2, True, 'text', 'text1', 25]\n"
     ]
    }
   ],
   "source": [
    "print(list1)"
   ]
  },
  {
   "cell_type": "code",
   "execution_count": 10,
   "id": "1e1d7aa6",
   "metadata": {},
   "outputs": [],
   "source": [
    "list1=[5,2.2,True,\"text\"]"
   ]
  },
  {
   "cell_type": "code",
   "execution_count": 11,
   "id": "58d013d1",
   "metadata": {},
   "outputs": [],
   "source": [
    "list2=[1,2,3,4,5,6]"
   ]
  },
  {
   "cell_type": "code",
   "execution_count": 12,
   "id": "7ec3baf1",
   "metadata": {},
   "outputs": [],
   "source": [
    "list1.extend(list2) #extend function"
   ]
  },
  {
   "cell_type": "code",
   "execution_count": 13,
   "id": "7a20c94b",
   "metadata": {},
   "outputs": [
    {
     "data": {
      "text/plain": [
       "[5, 2.2, True, 'text', 1, 2, 3, 4, 5, 6]"
      ]
     },
     "execution_count": 13,
     "metadata": {},
     "output_type": "execute_result"
    }
   ],
   "source": [
    "list1"
   ]
  },
  {
   "cell_type": "code",
   "execution_count": 14,
   "id": "2a1780f2",
   "metadata": {},
   "outputs": [],
   "source": [
    "#nested list with append\n",
    "list1.append(list2)"
   ]
  },
  {
   "cell_type": "code",
   "execution_count": 15,
   "id": "c27b99cd",
   "metadata": {},
   "outputs": [
    {
     "name": "stdout",
     "output_type": "stream",
     "text": [
      "[5, 2.2, True, 'text', 1, 2, 3, 4, 5, 6, [1, 2, 3, 4, 5, 6]]\n"
     ]
    }
   ],
   "source": [
    "print(list1)"
   ]
  },
  {
   "cell_type": "code",
   "execution_count": 16,
   "id": "a4afd278",
   "metadata": {},
   "outputs": [
    {
     "data": {
      "text/plain": [
       "1"
      ]
     },
     "execution_count": 16,
     "metadata": {},
     "output_type": "execute_result"
    }
   ],
   "source": [
    "list1[4]"
   ]
  },
  {
   "cell_type": "code",
   "execution_count": 17,
   "id": "bce1e300",
   "metadata": {},
   "outputs": [
    {
     "data": {
      "text/plain": [
       "[1, 2, 3, 4, 5, 6]"
      ]
     },
     "execution_count": 17,
     "metadata": {},
     "output_type": "execute_result"
    }
   ],
   "source": [
    "list1[10]"
   ]
  },
  {
   "cell_type": "code",
   "execution_count": 18,
   "id": "dbec6659",
   "metadata": {},
   "outputs": [
    {
     "data": {
      "text/plain": [
       "[3, 4]"
      ]
     },
     "execution_count": 18,
     "metadata": {},
     "output_type": "execute_result"
    }
   ],
   "source": [
    "list1[10][2:4]"
   ]
  },
  {
   "cell_type": "code",
   "execution_count": 19,
   "id": "4befa099",
   "metadata": {},
   "outputs": [
    {
     "data": {
      "text/plain": [
       "2"
      ]
     },
     "execution_count": 19,
     "metadata": {},
     "output_type": "execute_result"
    }
   ],
   "source": [
    "list1[-1][-5]"
   ]
  },
  {
   "cell_type": "code",
   "execution_count": 20,
   "id": "f73eb861",
   "metadata": {},
   "outputs": [
    {
     "data": {
      "text/plain": [
       "4"
      ]
     },
     "execution_count": 20,
     "metadata": {},
     "output_type": "execute_result"
    }
   ],
   "source": [
    "list1[-1][3]"
   ]
  },
  {
   "cell_type": "code",
   "execution_count": 21,
   "id": "3dfc8b5d",
   "metadata": {},
   "outputs": [],
   "source": [
    "new_list=[5,2.2,True,\"text\",[1,2,3,[11,12,13],4,5,6,7]]"
   ]
  },
  {
   "cell_type": "code",
   "execution_count": 22,
   "id": "929372ee",
   "metadata": {},
   "outputs": [
    {
     "data": {
      "text/plain": [
       "[5, 2.2, True, 'text', [1, 2, 3, [11, 12, 13], 4, 5, 6, 7]]"
      ]
     },
     "execution_count": 22,
     "metadata": {},
     "output_type": "execute_result"
    }
   ],
   "source": [
    "new_list"
   ]
  },
  {
   "cell_type": "code",
   "execution_count": 23,
   "id": "dd7671d5",
   "metadata": {},
   "outputs": [],
   "source": [
    "new_list[4][3].append(14)"
   ]
  },
  {
   "cell_type": "code",
   "execution_count": 24,
   "id": "ce8c4bd1",
   "metadata": {},
   "outputs": [
    {
     "data": {
      "text/plain": [
       "[5, 2.2, True, 'text', [1, 2, 3, [11, 12, 13, 14], 4, 5, 6, 7]]"
      ]
     },
     "execution_count": 24,
     "metadata": {},
     "output_type": "execute_result"
    }
   ],
   "source": [
    "new_list"
   ]
  },
  {
   "cell_type": "code",
   "execution_count": 25,
   "id": "428b7d13",
   "metadata": {},
   "outputs": [],
   "source": [
    "#Remove\n",
    "new_list.remove(True)"
   ]
  },
  {
   "cell_type": "code",
   "execution_count": 26,
   "id": "d4a19b4c",
   "metadata": {},
   "outputs": [
    {
     "data": {
      "text/plain": [
       "[5, 2.2, 'text', [1, 2, 3, [11, 12, 13, 14], 4, 5, 6, 7]]"
      ]
     },
     "execution_count": 26,
     "metadata": {},
     "output_type": "execute_result"
    }
   ],
   "source": [
    "new_list"
   ]
  },
  {
   "cell_type": "code",
   "execution_count": 27,
   "id": "ebd8819b",
   "metadata": {},
   "outputs": [],
   "source": [
    "new_list.remove(2.2)"
   ]
  },
  {
   "cell_type": "code",
   "execution_count": 28,
   "id": "f49f129a",
   "metadata": {},
   "outputs": [
    {
     "name": "stdout",
     "output_type": "stream",
     "text": [
      "[5, 'text', [1, 2, 3, [11, 12, 13, 14], 4, 5, 6, 7]]\n"
     ]
    }
   ],
   "source": [
    "print(new_list)"
   ]
  },
  {
   "cell_type": "code",
   "execution_count": 29,
   "id": "a479de1e",
   "metadata": {},
   "outputs": [
    {
     "data": {
      "text/plain": [
       "[1, 2, 3, 4, 5, 6]"
      ]
     },
     "execution_count": 29,
     "metadata": {},
     "output_type": "execute_result"
    }
   ],
   "source": [
    "#pop\n",
    "list1.pop(-1)"
   ]
  },
  {
   "cell_type": "code",
   "execution_count": 30,
   "id": "e697aa81",
   "metadata": {},
   "outputs": [
    {
     "data": {
      "text/plain": [
       "6"
      ]
     },
     "execution_count": 30,
     "metadata": {},
     "output_type": "execute_result"
    }
   ],
   "source": [
    "list1.pop()"
   ]
  },
  {
   "cell_type": "code",
   "execution_count": 31,
   "id": "93b35385",
   "metadata": {},
   "outputs": [],
   "source": [
    "list1.clear()"
   ]
  },
  {
   "cell_type": "code",
   "execution_count": 32,
   "id": "ce596ad9",
   "metadata": {},
   "outputs": [
    {
     "data": {
      "text/plain": [
       "[]"
      ]
     },
     "execution_count": 32,
     "metadata": {},
     "output_type": "execute_result"
    }
   ],
   "source": [
    "list1"
   ]
  },
  {
   "cell_type": "code",
   "execution_count": 33,
   "id": "c7656429",
   "metadata": {},
   "outputs": [],
   "source": [
    "# max,min\n",
    "list3=[12,52,32]"
   ]
  },
  {
   "cell_type": "code",
   "execution_count": 34,
   "id": "afd31a23",
   "metadata": {},
   "outputs": [
    {
     "data": {
      "text/plain": [
       "52"
      ]
     },
     "execution_count": 34,
     "metadata": {},
     "output_type": "execute_result"
    }
   ],
   "source": [
    "max(list3) # to find maximum within list"
   ]
  },
  {
   "cell_type": "code",
   "execution_count": 35,
   "id": "0028e1a4",
   "metadata": {},
   "outputs": [
    {
     "data": {
      "text/plain": [
       "12"
      ]
     },
     "execution_count": 35,
     "metadata": {},
     "output_type": "execute_result"
    }
   ],
   "source": [
    "min(list3) # to find minimum within list"
   ]
  },
  {
   "cell_type": "code",
   "execution_count": 37,
   "id": "04d64460",
   "metadata": {},
   "outputs": [],
   "source": [
    "#sort to sort list descending order\n",
    "list3.sort()"
   ]
  },
  {
   "cell_type": "code",
   "execution_count": 38,
   "id": "f40333fd",
   "metadata": {},
   "outputs": [
    {
     "data": {
      "text/plain": [
       "[12, 32, 52]"
      ]
     },
     "execution_count": 38,
     "metadata": {},
     "output_type": "execute_result"
    }
   ],
   "source": [
    "list3"
   ]
  },
  {
   "cell_type": "code",
   "execution_count": 39,
   "id": "cc284bc5",
   "metadata": {},
   "outputs": [],
   "source": [
    "list3.sort(reverse=True) # sort list in ascending order"
   ]
  },
  {
   "cell_type": "code",
   "execution_count": 40,
   "id": "2de5241b",
   "metadata": {},
   "outputs": [
    {
     "name": "stdout",
     "output_type": "stream",
     "text": [
      "[52, 32, 12]\n"
     ]
    }
   ],
   "source": [
    "print(list3)"
   ]
  },
  {
   "cell_type": "code",
   "execution_count": 41,
   "id": "296ff816",
   "metadata": {},
   "outputs": [],
   "source": [
    "list4=['c','c++','python','java','apple']"
   ]
  },
  {
   "cell_type": "code",
   "execution_count": 42,
   "id": "fe1d8cb1",
   "metadata": {},
   "outputs": [
    {
     "data": {
      "text/plain": [
       "['c', 'c++', 'python', 'java', 'apple']"
      ]
     },
     "execution_count": 42,
     "metadata": {},
     "output_type": "execute_result"
    }
   ],
   "source": [
    "list4"
   ]
  },
  {
   "cell_type": "code",
   "execution_count": 43,
   "id": "1734709e",
   "metadata": {},
   "outputs": [],
   "source": [
    "list4.sort()"
   ]
  },
  {
   "cell_type": "code",
   "execution_count": 44,
   "id": "e17755da",
   "metadata": {},
   "outputs": [
    {
     "name": "stdout",
     "output_type": "stream",
     "text": [
      "['apple', 'c', 'c++', 'java', 'python']\n"
     ]
    }
   ],
   "source": [
    "print(list4)"
   ]
  },
  {
   "cell_type": "code",
   "execution_count": 45,
   "id": "9ed394a6",
   "metadata": {},
   "outputs": [],
   "source": [
    "list4.sort(reverse=True)"
   ]
  },
  {
   "cell_type": "code",
   "execution_count": 46,
   "id": "e00b4fab",
   "metadata": {},
   "outputs": [
    {
     "name": "stdout",
     "output_type": "stream",
     "text": [
      "['python', 'java', 'c++', 'c', 'apple']\n"
     ]
    }
   ],
   "source": [
    "print(list4)"
   ]
  },
  {
   "cell_type": "code",
   "execution_count": null,
   "id": "30ddb1ea",
   "metadata": {},
   "outputs": [],
   "source": [
    "# Tuple - immutable, tuple is faster than list.\n"
   ]
  },
  {
   "cell_type": "code",
   "execution_count": 48,
   "id": "4bf4382c",
   "metadata": {},
   "outputs": [],
   "source": [
    "tup1=(1,2,3,\"text\")"
   ]
  },
  {
   "cell_type": "code",
   "execution_count": 49,
   "id": "8b84eafe",
   "metadata": {},
   "outputs": [
    {
     "name": "stdout",
     "output_type": "stream",
     "text": [
      "(1, 2, 3, 'text')\n"
     ]
    }
   ],
   "source": [
    "print(tup1)"
   ]
  },
  {
   "cell_type": "code",
   "execution_count": 50,
   "id": "5833300f",
   "metadata": {},
   "outputs": [
    {
     "data": {
      "text/plain": [
       "tuple"
      ]
     },
     "execution_count": 50,
     "metadata": {},
     "output_type": "execute_result"
    }
   ],
   "source": [
    "type(tup1)"
   ]
  },
  {
   "cell_type": "code",
   "execution_count": 51,
   "id": "c4da69d4",
   "metadata": {},
   "outputs": [
    {
     "data": {
      "text/plain": [
       "2998772026640"
      ]
     },
     "execution_count": 51,
     "metadata": {},
     "output_type": "execute_result"
    }
   ],
   "source": [
    "id(tup1)"
   ]
  },
  {
   "cell_type": "code",
   "execution_count": 53,
   "id": "2670247c",
   "metadata": {},
   "outputs": [
    {
     "data": {
      "text/plain": [
       "1"
      ]
     },
     "execution_count": 53,
     "metadata": {},
     "output_type": "execute_result"
    }
   ],
   "source": [
    "tup1.count(\"text\") # gives count "
   ]
  },
  {
   "cell_type": "code",
   "execution_count": 54,
   "id": "f378b037",
   "metadata": {},
   "outputs": [],
   "source": [
    "del(tup1) # delete tuple"
   ]
  },
  {
   "cell_type": "code",
   "execution_count": 64,
   "id": "89b4e676",
   "metadata": {},
   "outputs": [],
   "source": [
    "tup1=(1,2,3,\"text\",54)"
   ]
  },
  {
   "cell_type": "code",
   "execution_count": 65,
   "id": "e4f39e0f",
   "metadata": {},
   "outputs": [
    {
     "name": "stdout",
     "output_type": "stream",
     "text": [
      "(1, 2, 3, 'text', 54)\n"
     ]
    }
   ],
   "source": [
    "print(tup1)"
   ]
  },
  {
   "cell_type": "code",
   "execution_count": 66,
   "id": "d3464d91",
   "metadata": {},
   "outputs": [
    {
     "data": {
      "text/plain": [
       "3"
      ]
     },
     "execution_count": 66,
     "metadata": {},
     "output_type": "execute_result"
    }
   ],
   "source": [
    "tup1.index(\"text\")"
   ]
  },
  {
   "cell_type": "code",
   "execution_count": 67,
   "id": "c73ce084",
   "metadata": {},
   "outputs": [],
   "source": [
    "tup2=(\"ExcelR\",\"Solutions\")"
   ]
  },
  {
   "cell_type": "code",
   "execution_count": 68,
   "id": "086e7fe7",
   "metadata": {},
   "outputs": [
    {
     "name": "stdout",
     "output_type": "stream",
     "text": [
      "('ExcelR', 'Solutions')\n"
     ]
    }
   ],
   "source": [
    "print(tup2)"
   ]
  },
  {
   "cell_type": "code",
   "execution_count": 69,
   "id": "bf9c9139",
   "metadata": {},
   "outputs": [],
   "source": [
    "tup1=tup1+tup2"
   ]
  },
  {
   "cell_type": "code",
   "execution_count": 70,
   "id": "b585108d",
   "metadata": {},
   "outputs": [
    {
     "name": "stdout",
     "output_type": "stream",
     "text": [
      "(1, 2, 3, 'text', 54, 'ExcelR', 'Solutions')\n"
     ]
    }
   ],
   "source": [
    "print(tup1)"
   ]
  },
  {
   "cell_type": "code",
   "execution_count": 71,
   "id": "46724be4",
   "metadata": {},
   "outputs": [
    {
     "data": {
      "text/plain": [
       "tuple"
      ]
     },
     "execution_count": 71,
     "metadata": {},
     "output_type": "execute_result"
    }
   ],
   "source": [
    "type(tup1)"
   ]
  },
  {
   "cell_type": "code",
   "execution_count": 72,
   "id": "3b3e5c91",
   "metadata": {},
   "outputs": [
    {
     "data": {
      "text/plain": [
       "7"
      ]
     },
     "execution_count": 72,
     "metadata": {},
     "output_type": "execute_result"
    }
   ],
   "source": [
    "len(tup1)"
   ]
  },
  {
   "cell_type": "code",
   "execution_count": 73,
   "id": "71c8a49c",
   "metadata": {},
   "outputs": [
    {
     "data": {
      "text/plain": [
       "('text', 54)"
      ]
     },
     "execution_count": 73,
     "metadata": {},
     "output_type": "execute_result"
    }
   ],
   "source": [
    "tup1[3:5]"
   ]
  },
  {
   "cell_type": "code",
   "execution_count": 74,
   "id": "a87d9d11",
   "metadata": {},
   "outputs": [
    {
     "data": {
      "text/plain": [
       "(1, 2, 3)"
      ]
     },
     "execution_count": 74,
     "metadata": {},
     "output_type": "execute_result"
    }
   ],
   "source": [
    "tup1[:3]"
   ]
  },
  {
   "cell_type": "code",
   "execution_count": 75,
   "id": "268bc049",
   "metadata": {},
   "outputs": [],
   "source": [
    "del(tup1)"
   ]
  }
 ],
 "metadata": {
  "kernelspec": {
   "display_name": "Python 3 (ipykernel)",
   "language": "python",
   "name": "python3"
  },
  "language_info": {
   "codemirror_mode": {
    "name": "ipython",
    "version": 3
   },
   "file_extension": ".py",
   "mimetype": "text/x-python",
   "name": "python",
   "nbconvert_exporter": "python",
   "pygments_lexer": "ipython3",
   "version": "3.9.12"
  }
 },
 "nbformat": 4,
 "nbformat_minor": 5
}
